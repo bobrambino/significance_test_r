{
  "nbformat": 4,
  "nbformat_minor": 0,
  "metadata": {
    "colab": {
      "provenance": []
    },
    "kernelspec": {
      "name": "ir",
      "display_name": "R"
    },
    "language_info": {
      "name": "R"
    }
  },
  "cells": [
    {
      "cell_type": "markdown",
      "source": [
        "In the excel spreadsheet, you will find a dataset containing data extracted from a corpus of Business\n",
        "emails. In each row, you have the following variables:\n",
        "1. **Hierarchy**: this is the ranking of the participant\n",
        "of the study, either manager or employee,\n",
        "2. **Speech_act**: this is the speech act of their email. Emails\n",
        "can be written to request the receiver to do something, to answer a question, or to promise something\n",
        "to the receiver.\n",
        "3. **Frequency**: this is the total number of time the participant wrote the expression\n",
        "“could you”.\n",
        "4. **Total_nb_words** is the total length in number of words of the emails sent by that\n",
        "participant for each speech act that week.\n",
        "\n",
        "Using this dataset and R, answer the following questions.\n",
        "For each question, please also copy-paste your R code in your answer, and the output of the R model."
      ],
      "metadata": {
        "id": "4MOsIjAw655M"
      }
    },
    {
      "cell_type": "markdown",
      "source": [
        "####**Process of answering the question:**\n",
        "- Import important libraries\n",
        "- Load dataset in memory\n",
        "- Create new column for the normalized frequency of \"could you\" per 10,000 words\n",
        "- Test significance in difference of normalized frequency per Hierarchy level\n",
        "- Interpretation of result\n",
        "- Visualize distribution per Hierarchy level\n",
        "- Test significance in difference of normalized frequency per Speech_act\n",
        "- Interpretation of result\n",
        "- Visualize distribution per Speech_act"
      ],
      "metadata": {
        "id": "lbALccn08Fun"
      }
    },
    {
      "cell_type": "markdown",
      "source": [
        "### 1. **Import Libraries**"
      ],
      "metadata": {
        "id": "4FnpM5es9Yf6"
      }
    },
    {
      "cell_type": "code",
      "execution_count": 1,
      "metadata": {
        "id": "gvXGnuF310OE"
      },
      "outputs": [],
      "source": [
        "### import library for making graph\n",
        "library(ggplot2)"
      ]
    },
    {
      "cell_type": "markdown",
      "source": [
        "### 2. **Load dataset into memory**"
      ],
      "metadata": {
        "id": "U6tpzaql9m4c"
      }
    },
    {
      "cell_type": "code",
      "source": [
        "### load dataset and view it\n",
        "data <- readxl::read_excel(\"/content/Advanced methodology exam 3EP dataset.xlsx\")\n",
        "View(data)"
      ],
      "metadata": {
        "colab": {
          "base_uri": "https://localhost:8080/",
          "height": 1000
        },
        "id": "2GYEbfZB2WrL",
        "outputId": "7a58b2ff-012d-4b32-866a-df52605be09b"
      },
      "execution_count": 3,
      "outputs": [
        {
          "output_type": "display_data",
          "data": {
            "text/plain": [
              "    Hierarchy Speech_act Frequency_item Total_nb_words\n",
              "1   Manager   Request     4              318          \n",
              "2   Manager   Request     7             3981          \n",
              "3   Manager   Request     7             1181          \n",
              "4   Manager   Request     6             3166          \n",
              "5   Manager   Request     8             4838          \n",
              "6   Manager   Request     6             4581          \n",
              "7   Manager   Request     6              945          \n",
              "8   Manager   Request     9              396          \n",
              "9   Manager   Request     5             4553          \n",
              "10  Manager   Request     7             1724          \n",
              "11  Manager   Request     9             3148          \n",
              "12  Manager   Request     8             2479          \n",
              "13  Manager   Request     7             2657          \n",
              "14  Manager   Request     8             1427          \n",
              "15  Manager   Request     5             2172          \n",
              "16  Manager   Request     6             4454          \n",
              "17  Manager   Request     6             1304          \n",
              "18  Manager   Request     9              669          \n",
              "19  Manager   Request     4             3733          \n",
              "20  Manager   Request     7             3375          \n",
              "21  Manager   Request     8             2980          \n",
              "22  Manager   Request     4             4812          \n",
              "23  Manager   Request     6             2734          \n",
              "24  Manager   Request     9             3681          \n",
              "25  Manager   Request     8             3334          \n",
              "26  Manager   Request     8              950          \n",
              "27  Manager   Request     4             2786          \n",
              "28  Manager   Request     6             4457          \n",
              "29  Manager   Request    10             3518          \n",
              "30  Manager   Request     6              367          \n",
              "⋮   ⋮         ⋮          ⋮              ⋮             \n",
              "271 Employee  Promise    3              1053          \n",
              "272 Employee  Promise    5              1685          \n",
              "273 Employee  Promise    5               520          \n",
              "274 Employee  Promise    1              1445          \n",
              "275 Employee  Promise    4              4394          \n",
              "276 Employee  Promise    7               712          \n",
              "277 Employee  Promise    1              2178          \n",
              "278 Employee  Promise    8              1313          \n",
              "279 Employee  Promise    6              1932          \n",
              "280 Employee  Promise    8              1668          \n",
              "281 Employee  Promise    1               301          \n",
              "282 Employee  Promise    6              2061          \n",
              "283 Employee  Promise    1              3993          \n",
              "284 Employee  Promise    3              2333          \n",
              "285 Employee  Promise    8              3214          \n",
              "286 Employee  Promise    5              3413          \n",
              "287 Employee  Promise    4              4380          \n",
              "288 Employee  Promise    1              3081          \n",
              "289 Employee  Promise    2               456          \n",
              "290 Employee  Promise    2              3712          \n",
              "291 Employee  Promise    5              2528          \n",
              "292 Employee  Promise    5              2662          \n",
              "293 Employee  Promise    1              3149          \n",
              "294 Employee  Promise    1              4039          \n",
              "295 Employee  Promise    7              1698          \n",
              "296 Employee  Promise    2              3363          \n",
              "297 Employee  Promise    3               751          \n",
              "298 Employee  Promise    3              4988          \n",
              "299 Employee  Promise    7              4854          \n",
              "300 Employee  Promise    3              3172          "
            ],
            "text/html": [
              "<table class=\"dataframe\">\n",
              "<caption>A tibble: 300 × 4</caption>\n",
              "<thead>\n",
              "\t<tr><th scope=col>Hierarchy</th><th scope=col>Speech_act</th><th scope=col>Frequency_item</th><th scope=col>Total_nb_words</th></tr>\n",
              "\t<tr><th scope=col>&lt;chr&gt;</th><th scope=col>&lt;chr&gt;</th><th scope=col>&lt;dbl&gt;</th><th scope=col>&lt;dbl&gt;</th></tr>\n",
              "</thead>\n",
              "<tbody>\n",
              "\t<tr><td>Manager</td><td>Request</td><td> 4</td><td> 318</td></tr>\n",
              "\t<tr><td>Manager</td><td>Request</td><td> 7</td><td>3981</td></tr>\n",
              "\t<tr><td>Manager</td><td>Request</td><td> 7</td><td>1181</td></tr>\n",
              "\t<tr><td>Manager</td><td>Request</td><td> 6</td><td>3166</td></tr>\n",
              "\t<tr><td>Manager</td><td>Request</td><td> 8</td><td>4838</td></tr>\n",
              "\t<tr><td>Manager</td><td>Request</td><td> 6</td><td>4581</td></tr>\n",
              "\t<tr><td>Manager</td><td>Request</td><td> 6</td><td> 945</td></tr>\n",
              "\t<tr><td>Manager</td><td>Request</td><td> 9</td><td> 396</td></tr>\n",
              "\t<tr><td>Manager</td><td>Request</td><td> 5</td><td>4553</td></tr>\n",
              "\t<tr><td>Manager</td><td>Request</td><td> 7</td><td>1724</td></tr>\n",
              "\t<tr><td>Manager</td><td>Request</td><td> 9</td><td>3148</td></tr>\n",
              "\t<tr><td>Manager</td><td>Request</td><td> 8</td><td>2479</td></tr>\n",
              "\t<tr><td>Manager</td><td>Request</td><td> 7</td><td>2657</td></tr>\n",
              "\t<tr><td>Manager</td><td>Request</td><td> 8</td><td>1427</td></tr>\n",
              "\t<tr><td>Manager</td><td>Request</td><td> 5</td><td>2172</td></tr>\n",
              "\t<tr><td>Manager</td><td>Request</td><td> 6</td><td>4454</td></tr>\n",
              "\t<tr><td>Manager</td><td>Request</td><td> 6</td><td>1304</td></tr>\n",
              "\t<tr><td>Manager</td><td>Request</td><td> 9</td><td> 669</td></tr>\n",
              "\t<tr><td>Manager</td><td>Request</td><td> 4</td><td>3733</td></tr>\n",
              "\t<tr><td>Manager</td><td>Request</td><td> 7</td><td>3375</td></tr>\n",
              "\t<tr><td>Manager</td><td>Request</td><td> 8</td><td>2980</td></tr>\n",
              "\t<tr><td>Manager</td><td>Request</td><td> 4</td><td>4812</td></tr>\n",
              "\t<tr><td>Manager</td><td>Request</td><td> 6</td><td>2734</td></tr>\n",
              "\t<tr><td>Manager</td><td>Request</td><td> 9</td><td>3681</td></tr>\n",
              "\t<tr><td>Manager</td><td>Request</td><td> 8</td><td>3334</td></tr>\n",
              "\t<tr><td>Manager</td><td>Request</td><td> 8</td><td> 950</td></tr>\n",
              "\t<tr><td>Manager</td><td>Request</td><td> 4</td><td>2786</td></tr>\n",
              "\t<tr><td>Manager</td><td>Request</td><td> 6</td><td>4457</td></tr>\n",
              "\t<tr><td>Manager</td><td>Request</td><td>10</td><td>3518</td></tr>\n",
              "\t<tr><td>Manager</td><td>Request</td><td> 6</td><td> 367</td></tr>\n",
              "\t<tr><td>⋮</td><td>⋮</td><td>⋮</td><td>⋮</td></tr>\n",
              "\t<tr><td>Employee</td><td>Promise</td><td>3</td><td>1053</td></tr>\n",
              "\t<tr><td>Employee</td><td>Promise</td><td>5</td><td>1685</td></tr>\n",
              "\t<tr><td>Employee</td><td>Promise</td><td>5</td><td> 520</td></tr>\n",
              "\t<tr><td>Employee</td><td>Promise</td><td>1</td><td>1445</td></tr>\n",
              "\t<tr><td>Employee</td><td>Promise</td><td>4</td><td>4394</td></tr>\n",
              "\t<tr><td>Employee</td><td>Promise</td><td>7</td><td> 712</td></tr>\n",
              "\t<tr><td>Employee</td><td>Promise</td><td>1</td><td>2178</td></tr>\n",
              "\t<tr><td>Employee</td><td>Promise</td><td>8</td><td>1313</td></tr>\n",
              "\t<tr><td>Employee</td><td>Promise</td><td>6</td><td>1932</td></tr>\n",
              "\t<tr><td>Employee</td><td>Promise</td><td>8</td><td>1668</td></tr>\n",
              "\t<tr><td>Employee</td><td>Promise</td><td>1</td><td> 301</td></tr>\n",
              "\t<tr><td>Employee</td><td>Promise</td><td>6</td><td>2061</td></tr>\n",
              "\t<tr><td>Employee</td><td>Promise</td><td>1</td><td>3993</td></tr>\n",
              "\t<tr><td>Employee</td><td>Promise</td><td>3</td><td>2333</td></tr>\n",
              "\t<tr><td>Employee</td><td>Promise</td><td>8</td><td>3214</td></tr>\n",
              "\t<tr><td>Employee</td><td>Promise</td><td>5</td><td>3413</td></tr>\n",
              "\t<tr><td>Employee</td><td>Promise</td><td>4</td><td>4380</td></tr>\n",
              "\t<tr><td>Employee</td><td>Promise</td><td>1</td><td>3081</td></tr>\n",
              "\t<tr><td>Employee</td><td>Promise</td><td>2</td><td> 456</td></tr>\n",
              "\t<tr><td>Employee</td><td>Promise</td><td>2</td><td>3712</td></tr>\n",
              "\t<tr><td>Employee</td><td>Promise</td><td>5</td><td>2528</td></tr>\n",
              "\t<tr><td>Employee</td><td>Promise</td><td>5</td><td>2662</td></tr>\n",
              "\t<tr><td>Employee</td><td>Promise</td><td>1</td><td>3149</td></tr>\n",
              "\t<tr><td>Employee</td><td>Promise</td><td>1</td><td>4039</td></tr>\n",
              "\t<tr><td>Employee</td><td>Promise</td><td>7</td><td>1698</td></tr>\n",
              "\t<tr><td>Employee</td><td>Promise</td><td>2</td><td>3363</td></tr>\n",
              "\t<tr><td>Employee</td><td>Promise</td><td>3</td><td> 751</td></tr>\n",
              "\t<tr><td>Employee</td><td>Promise</td><td>3</td><td>4988</td></tr>\n",
              "\t<tr><td>Employee</td><td>Promise</td><td>7</td><td>4854</td></tr>\n",
              "\t<tr><td>Employee</td><td>Promise</td><td>3</td><td>3172</td></tr>\n",
              "</tbody>\n",
              "</table>\n"
            ],
            "text/markdown": "\nA tibble: 300 × 4\n\n| Hierarchy &lt;chr&gt; | Speech_act &lt;chr&gt; | Frequency_item &lt;dbl&gt; | Total_nb_words &lt;dbl&gt; |\n|---|---|---|---|\n| Manager | Request |  4 |  318 |\n| Manager | Request |  7 | 3981 |\n| Manager | Request |  7 | 1181 |\n| Manager | Request |  6 | 3166 |\n| Manager | Request |  8 | 4838 |\n| Manager | Request |  6 | 4581 |\n| Manager | Request |  6 |  945 |\n| Manager | Request |  9 |  396 |\n| Manager | Request |  5 | 4553 |\n| Manager | Request |  7 | 1724 |\n| Manager | Request |  9 | 3148 |\n| Manager | Request |  8 | 2479 |\n| Manager | Request |  7 | 2657 |\n| Manager | Request |  8 | 1427 |\n| Manager | Request |  5 | 2172 |\n| Manager | Request |  6 | 4454 |\n| Manager | Request |  6 | 1304 |\n| Manager | Request |  9 |  669 |\n| Manager | Request |  4 | 3733 |\n| Manager | Request |  7 | 3375 |\n| Manager | Request |  8 | 2980 |\n| Manager | Request |  4 | 4812 |\n| Manager | Request |  6 | 2734 |\n| Manager | Request |  9 | 3681 |\n| Manager | Request |  8 | 3334 |\n| Manager | Request |  8 |  950 |\n| Manager | Request |  4 | 2786 |\n| Manager | Request |  6 | 4457 |\n| Manager | Request | 10 | 3518 |\n| Manager | Request |  6 |  367 |\n| ⋮ | ⋮ | ⋮ | ⋮ |\n| Employee | Promise | 3 | 1053 |\n| Employee | Promise | 5 | 1685 |\n| Employee | Promise | 5 |  520 |\n| Employee | Promise | 1 | 1445 |\n| Employee | Promise | 4 | 4394 |\n| Employee | Promise | 7 |  712 |\n| Employee | Promise | 1 | 2178 |\n| Employee | Promise | 8 | 1313 |\n| Employee | Promise | 6 | 1932 |\n| Employee | Promise | 8 | 1668 |\n| Employee | Promise | 1 |  301 |\n| Employee | Promise | 6 | 2061 |\n| Employee | Promise | 1 | 3993 |\n| Employee | Promise | 3 | 2333 |\n| Employee | Promise | 8 | 3214 |\n| Employee | Promise | 5 | 3413 |\n| Employee | Promise | 4 | 4380 |\n| Employee | Promise | 1 | 3081 |\n| Employee | Promise | 2 |  456 |\n| Employee | Promise | 2 | 3712 |\n| Employee | Promise | 5 | 2528 |\n| Employee | Promise | 5 | 2662 |\n| Employee | Promise | 1 | 3149 |\n| Employee | Promise | 1 | 4039 |\n| Employee | Promise | 7 | 1698 |\n| Employee | Promise | 2 | 3363 |\n| Employee | Promise | 3 |  751 |\n| Employee | Promise | 3 | 4988 |\n| Employee | Promise | 7 | 4854 |\n| Employee | Promise | 3 | 3172 |\n\n",
            "text/latex": "A tibble: 300 × 4\n\\begin{tabular}{llll}\n Hierarchy & Speech\\_act & Frequency\\_item & Total\\_nb\\_words\\\\\n <chr> & <chr> & <dbl> & <dbl>\\\\\n\\hline\n\t Manager & Request &  4 &  318\\\\\n\t Manager & Request &  7 & 3981\\\\\n\t Manager & Request &  7 & 1181\\\\\n\t Manager & Request &  6 & 3166\\\\\n\t Manager & Request &  8 & 4838\\\\\n\t Manager & Request &  6 & 4581\\\\\n\t Manager & Request &  6 &  945\\\\\n\t Manager & Request &  9 &  396\\\\\n\t Manager & Request &  5 & 4553\\\\\n\t Manager & Request &  7 & 1724\\\\\n\t Manager & Request &  9 & 3148\\\\\n\t Manager & Request &  8 & 2479\\\\\n\t Manager & Request &  7 & 2657\\\\\n\t Manager & Request &  8 & 1427\\\\\n\t Manager & Request &  5 & 2172\\\\\n\t Manager & Request &  6 & 4454\\\\\n\t Manager & Request &  6 & 1304\\\\\n\t Manager & Request &  9 &  669\\\\\n\t Manager & Request &  4 & 3733\\\\\n\t Manager & Request &  7 & 3375\\\\\n\t Manager & Request &  8 & 2980\\\\\n\t Manager & Request &  4 & 4812\\\\\n\t Manager & Request &  6 & 2734\\\\\n\t Manager & Request &  9 & 3681\\\\\n\t Manager & Request &  8 & 3334\\\\\n\t Manager & Request &  8 &  950\\\\\n\t Manager & Request &  4 & 2786\\\\\n\t Manager & Request &  6 & 4457\\\\\n\t Manager & Request & 10 & 3518\\\\\n\t Manager & Request &  6 &  367\\\\\n\t ⋮ & ⋮ & ⋮ & ⋮\\\\\n\t Employee & Promise & 3 & 1053\\\\\n\t Employee & Promise & 5 & 1685\\\\\n\t Employee & Promise & 5 &  520\\\\\n\t Employee & Promise & 1 & 1445\\\\\n\t Employee & Promise & 4 & 4394\\\\\n\t Employee & Promise & 7 &  712\\\\\n\t Employee & Promise & 1 & 2178\\\\\n\t Employee & Promise & 8 & 1313\\\\\n\t Employee & Promise & 6 & 1932\\\\\n\t Employee & Promise & 8 & 1668\\\\\n\t Employee & Promise & 1 &  301\\\\\n\t Employee & Promise & 6 & 2061\\\\\n\t Employee & Promise & 1 & 3993\\\\\n\t Employee & Promise & 3 & 2333\\\\\n\t Employee & Promise & 8 & 3214\\\\\n\t Employee & Promise & 5 & 3413\\\\\n\t Employee & Promise & 4 & 4380\\\\\n\t Employee & Promise & 1 & 3081\\\\\n\t Employee & Promise & 2 &  456\\\\\n\t Employee & Promise & 2 & 3712\\\\\n\t Employee & Promise & 5 & 2528\\\\\n\t Employee & Promise & 5 & 2662\\\\\n\t Employee & Promise & 1 & 3149\\\\\n\t Employee & Promise & 1 & 4039\\\\\n\t Employee & Promise & 7 & 1698\\\\\n\t Employee & Promise & 2 & 3363\\\\\n\t Employee & Promise & 3 &  751\\\\\n\t Employee & Promise & 3 & 4988\\\\\n\t Employee & Promise & 7 & 4854\\\\\n\t Employee & Promise & 3 & 3172\\\\\n\\end{tabular}\n"
          },
          "metadata": {}
        }
      ]
    },
    {
      "cell_type": "markdown",
      "source": [
        "### 3. **Create new column:**\n",
        "Here, we create a new column of the normalized frequency of \"could you\" per 10,000 words\n",
        "the formula:\n",
        "$Normalized Frequency= (\\frac{TotalNumberOfWords}{FrequencyOf\"could you\"})×10,000$\n",
        "\n"
      ],
      "metadata": {
        "id": "4soqAM0U92ZE"
      }
    },
    {
      "cell_type": "code",
      "source": [
        "## create a new column with normalized frequency per 10000\n",
        "data$normalized_freq <- (data$Frequency_item/data$Total_nb_words)*10000\n",
        "View(data)"
      ],
      "metadata": {
        "colab": {
          "base_uri": "https://localhost:8080/",
          "height": 1000
        },
        "id": "i5F8LAd63AIB",
        "outputId": "01bffa16-a5d5-4135-dc63-daee5e855ef0"
      },
      "execution_count": 5,
      "outputs": [
        {
          "output_type": "display_data",
          "data": {
            "text/plain": [
              "    Hierarchy Speech_act Frequency_item Total_nb_words normalized_freq\n",
              "1   Manager   Request     4              318           125.786164     \n",
              "2   Manager   Request     7             3981            17.583522     \n",
              "3   Manager   Request     7             1181            59.271804     \n",
              "4   Manager   Request     6             3166            18.951358     \n",
              "5   Manager   Request     8             4838            16.535759     \n",
              "6   Manager   Request     6             4581            13.097577     \n",
              "7   Manager   Request     6              945            63.492063     \n",
              "8   Manager   Request     9              396           227.272727     \n",
              "9   Manager   Request     5             4553            10.981770     \n",
              "10  Manager   Request     7             1724            40.603248     \n",
              "11  Manager   Request     9             3148            28.589581     \n",
              "12  Manager   Request     8             2479            32.271077     \n",
              "13  Manager   Request     7             2657            26.345502     \n",
              "14  Manager   Request     8             1427            56.061668     \n",
              "15  Manager   Request     5             2172            23.020258     \n",
              "16  Manager   Request     6             4454            13.471037     \n",
              "17  Manager   Request     6             1304            46.012270     \n",
              "18  Manager   Request     9              669           134.529148     \n",
              "19  Manager   Request     4             3733            10.715242     \n",
              "20  Manager   Request     7             3375            20.740741     \n",
              "21  Manager   Request     8             2980            26.845638     \n",
              "22  Manager   Request     4             4812             8.312552     \n",
              "23  Manager   Request     6             2734            21.945867     \n",
              "24  Manager   Request     9             3681            24.449878     \n",
              "25  Manager   Request     8             3334            23.995201     \n",
              "26  Manager   Request     8              950            84.210526     \n",
              "27  Manager   Request     4             2786            14.357502     \n",
              "28  Manager   Request     6             4457            13.461970     \n",
              "29  Manager   Request    10             3518            28.425242     \n",
              "30  Manager   Request     6              367           163.487738     \n",
              "⋮   ⋮         ⋮          ⋮              ⋮              ⋮              \n",
              "271 Employee  Promise    3              1053           28.490028      \n",
              "272 Employee  Promise    5              1685           29.673591      \n",
              "273 Employee  Promise    5               520           96.153846      \n",
              "274 Employee  Promise    1              1445            6.920415      \n",
              "275 Employee  Promise    4              4394            9.103323      \n",
              "276 Employee  Promise    7               712           98.314607      \n",
              "277 Employee  Promise    1              2178            4.591368      \n",
              "278 Employee  Promise    8              1313           60.929170      \n",
              "279 Employee  Promise    6              1932           31.055901      \n",
              "280 Employee  Promise    8              1668           47.961631      \n",
              "281 Employee  Promise    1               301           33.222591      \n",
              "282 Employee  Promise    6              2061           29.112082      \n",
              "283 Employee  Promise    1              3993            2.504383      \n",
              "284 Employee  Promise    3              2333           12.858980      \n",
              "285 Employee  Promise    8              3214           24.891101      \n",
              "286 Employee  Promise    5              3413           14.649868      \n",
              "287 Employee  Promise    4              4380            9.132420      \n",
              "288 Employee  Promise    1              3081            3.245699      \n",
              "289 Employee  Promise    2               456           43.859649      \n",
              "290 Employee  Promise    2              3712            5.387931      \n",
              "291 Employee  Promise    5              2528           19.778481      \n",
              "292 Employee  Promise    5              2662           18.782870      \n",
              "293 Employee  Promise    1              3149            3.175611      \n",
              "294 Employee  Promise    1              4039            2.475860      \n",
              "295 Employee  Promise    7              1698           41.224971      \n",
              "296 Employee  Promise    2              3363            5.947071      \n",
              "297 Employee  Promise    3               751           39.946738      \n",
              "298 Employee  Promise    3              4988            6.014435      \n",
              "299 Employee  Promise    7              4854           14.421096      \n",
              "300 Employee  Promise    3              3172            9.457755      "
            ],
            "text/html": [
              "<table class=\"dataframe\">\n",
              "<caption>A tibble: 300 × 5</caption>\n",
              "<thead>\n",
              "\t<tr><th scope=col>Hierarchy</th><th scope=col>Speech_act</th><th scope=col>Frequency_item</th><th scope=col>Total_nb_words</th><th scope=col>normalized_freq</th></tr>\n",
              "\t<tr><th scope=col>&lt;chr&gt;</th><th scope=col>&lt;chr&gt;</th><th scope=col>&lt;dbl&gt;</th><th scope=col>&lt;dbl&gt;</th><th scope=col>&lt;dbl&gt;</th></tr>\n",
              "</thead>\n",
              "<tbody>\n",
              "\t<tr><td>Manager</td><td>Request</td><td> 4</td><td> 318</td><td>125.786164</td></tr>\n",
              "\t<tr><td>Manager</td><td>Request</td><td> 7</td><td>3981</td><td> 17.583522</td></tr>\n",
              "\t<tr><td>Manager</td><td>Request</td><td> 7</td><td>1181</td><td> 59.271804</td></tr>\n",
              "\t<tr><td>Manager</td><td>Request</td><td> 6</td><td>3166</td><td> 18.951358</td></tr>\n",
              "\t<tr><td>Manager</td><td>Request</td><td> 8</td><td>4838</td><td> 16.535759</td></tr>\n",
              "\t<tr><td>Manager</td><td>Request</td><td> 6</td><td>4581</td><td> 13.097577</td></tr>\n",
              "\t<tr><td>Manager</td><td>Request</td><td> 6</td><td> 945</td><td> 63.492063</td></tr>\n",
              "\t<tr><td>Manager</td><td>Request</td><td> 9</td><td> 396</td><td>227.272727</td></tr>\n",
              "\t<tr><td>Manager</td><td>Request</td><td> 5</td><td>4553</td><td> 10.981770</td></tr>\n",
              "\t<tr><td>Manager</td><td>Request</td><td> 7</td><td>1724</td><td> 40.603248</td></tr>\n",
              "\t<tr><td>Manager</td><td>Request</td><td> 9</td><td>3148</td><td> 28.589581</td></tr>\n",
              "\t<tr><td>Manager</td><td>Request</td><td> 8</td><td>2479</td><td> 32.271077</td></tr>\n",
              "\t<tr><td>Manager</td><td>Request</td><td> 7</td><td>2657</td><td> 26.345502</td></tr>\n",
              "\t<tr><td>Manager</td><td>Request</td><td> 8</td><td>1427</td><td> 56.061668</td></tr>\n",
              "\t<tr><td>Manager</td><td>Request</td><td> 5</td><td>2172</td><td> 23.020258</td></tr>\n",
              "\t<tr><td>Manager</td><td>Request</td><td> 6</td><td>4454</td><td> 13.471037</td></tr>\n",
              "\t<tr><td>Manager</td><td>Request</td><td> 6</td><td>1304</td><td> 46.012270</td></tr>\n",
              "\t<tr><td>Manager</td><td>Request</td><td> 9</td><td> 669</td><td>134.529148</td></tr>\n",
              "\t<tr><td>Manager</td><td>Request</td><td> 4</td><td>3733</td><td> 10.715242</td></tr>\n",
              "\t<tr><td>Manager</td><td>Request</td><td> 7</td><td>3375</td><td> 20.740741</td></tr>\n",
              "\t<tr><td>Manager</td><td>Request</td><td> 8</td><td>2980</td><td> 26.845638</td></tr>\n",
              "\t<tr><td>Manager</td><td>Request</td><td> 4</td><td>4812</td><td>  8.312552</td></tr>\n",
              "\t<tr><td>Manager</td><td>Request</td><td> 6</td><td>2734</td><td> 21.945867</td></tr>\n",
              "\t<tr><td>Manager</td><td>Request</td><td> 9</td><td>3681</td><td> 24.449878</td></tr>\n",
              "\t<tr><td>Manager</td><td>Request</td><td> 8</td><td>3334</td><td> 23.995201</td></tr>\n",
              "\t<tr><td>Manager</td><td>Request</td><td> 8</td><td> 950</td><td> 84.210526</td></tr>\n",
              "\t<tr><td>Manager</td><td>Request</td><td> 4</td><td>2786</td><td> 14.357502</td></tr>\n",
              "\t<tr><td>Manager</td><td>Request</td><td> 6</td><td>4457</td><td> 13.461970</td></tr>\n",
              "\t<tr><td>Manager</td><td>Request</td><td>10</td><td>3518</td><td> 28.425242</td></tr>\n",
              "\t<tr><td>Manager</td><td>Request</td><td> 6</td><td> 367</td><td>163.487738</td></tr>\n",
              "\t<tr><td>⋮</td><td>⋮</td><td>⋮</td><td>⋮</td><td>⋮</td></tr>\n",
              "\t<tr><td>Employee</td><td>Promise</td><td>3</td><td>1053</td><td>28.490028</td></tr>\n",
              "\t<tr><td>Employee</td><td>Promise</td><td>5</td><td>1685</td><td>29.673591</td></tr>\n",
              "\t<tr><td>Employee</td><td>Promise</td><td>5</td><td> 520</td><td>96.153846</td></tr>\n",
              "\t<tr><td>Employee</td><td>Promise</td><td>1</td><td>1445</td><td> 6.920415</td></tr>\n",
              "\t<tr><td>Employee</td><td>Promise</td><td>4</td><td>4394</td><td> 9.103323</td></tr>\n",
              "\t<tr><td>Employee</td><td>Promise</td><td>7</td><td> 712</td><td>98.314607</td></tr>\n",
              "\t<tr><td>Employee</td><td>Promise</td><td>1</td><td>2178</td><td> 4.591368</td></tr>\n",
              "\t<tr><td>Employee</td><td>Promise</td><td>8</td><td>1313</td><td>60.929170</td></tr>\n",
              "\t<tr><td>Employee</td><td>Promise</td><td>6</td><td>1932</td><td>31.055901</td></tr>\n",
              "\t<tr><td>Employee</td><td>Promise</td><td>8</td><td>1668</td><td>47.961631</td></tr>\n",
              "\t<tr><td>Employee</td><td>Promise</td><td>1</td><td> 301</td><td>33.222591</td></tr>\n",
              "\t<tr><td>Employee</td><td>Promise</td><td>6</td><td>2061</td><td>29.112082</td></tr>\n",
              "\t<tr><td>Employee</td><td>Promise</td><td>1</td><td>3993</td><td> 2.504383</td></tr>\n",
              "\t<tr><td>Employee</td><td>Promise</td><td>3</td><td>2333</td><td>12.858980</td></tr>\n",
              "\t<tr><td>Employee</td><td>Promise</td><td>8</td><td>3214</td><td>24.891101</td></tr>\n",
              "\t<tr><td>Employee</td><td>Promise</td><td>5</td><td>3413</td><td>14.649868</td></tr>\n",
              "\t<tr><td>Employee</td><td>Promise</td><td>4</td><td>4380</td><td> 9.132420</td></tr>\n",
              "\t<tr><td>Employee</td><td>Promise</td><td>1</td><td>3081</td><td> 3.245699</td></tr>\n",
              "\t<tr><td>Employee</td><td>Promise</td><td>2</td><td> 456</td><td>43.859649</td></tr>\n",
              "\t<tr><td>Employee</td><td>Promise</td><td>2</td><td>3712</td><td> 5.387931</td></tr>\n",
              "\t<tr><td>Employee</td><td>Promise</td><td>5</td><td>2528</td><td>19.778481</td></tr>\n",
              "\t<tr><td>Employee</td><td>Promise</td><td>5</td><td>2662</td><td>18.782870</td></tr>\n",
              "\t<tr><td>Employee</td><td>Promise</td><td>1</td><td>3149</td><td> 3.175611</td></tr>\n",
              "\t<tr><td>Employee</td><td>Promise</td><td>1</td><td>4039</td><td> 2.475860</td></tr>\n",
              "\t<tr><td>Employee</td><td>Promise</td><td>7</td><td>1698</td><td>41.224971</td></tr>\n",
              "\t<tr><td>Employee</td><td>Promise</td><td>2</td><td>3363</td><td> 5.947071</td></tr>\n",
              "\t<tr><td>Employee</td><td>Promise</td><td>3</td><td> 751</td><td>39.946738</td></tr>\n",
              "\t<tr><td>Employee</td><td>Promise</td><td>3</td><td>4988</td><td> 6.014435</td></tr>\n",
              "\t<tr><td>Employee</td><td>Promise</td><td>7</td><td>4854</td><td>14.421096</td></tr>\n",
              "\t<tr><td>Employee</td><td>Promise</td><td>3</td><td>3172</td><td> 9.457755</td></tr>\n",
              "</tbody>\n",
              "</table>\n"
            ],
            "text/markdown": "\nA tibble: 300 × 5\n\n| Hierarchy &lt;chr&gt; | Speech_act &lt;chr&gt; | Frequency_item &lt;dbl&gt; | Total_nb_words &lt;dbl&gt; | normalized_freq &lt;dbl&gt; |\n|---|---|---|---|---|\n| Manager | Request |  4 |  318 | 125.786164 |\n| Manager | Request |  7 | 3981 |  17.583522 |\n| Manager | Request |  7 | 1181 |  59.271804 |\n| Manager | Request |  6 | 3166 |  18.951358 |\n| Manager | Request |  8 | 4838 |  16.535759 |\n| Manager | Request |  6 | 4581 |  13.097577 |\n| Manager | Request |  6 |  945 |  63.492063 |\n| Manager | Request |  9 |  396 | 227.272727 |\n| Manager | Request |  5 | 4553 |  10.981770 |\n| Manager | Request |  7 | 1724 |  40.603248 |\n| Manager | Request |  9 | 3148 |  28.589581 |\n| Manager | Request |  8 | 2479 |  32.271077 |\n| Manager | Request |  7 | 2657 |  26.345502 |\n| Manager | Request |  8 | 1427 |  56.061668 |\n| Manager | Request |  5 | 2172 |  23.020258 |\n| Manager | Request |  6 | 4454 |  13.471037 |\n| Manager | Request |  6 | 1304 |  46.012270 |\n| Manager | Request |  9 |  669 | 134.529148 |\n| Manager | Request |  4 | 3733 |  10.715242 |\n| Manager | Request |  7 | 3375 |  20.740741 |\n| Manager | Request |  8 | 2980 |  26.845638 |\n| Manager | Request |  4 | 4812 |   8.312552 |\n| Manager | Request |  6 | 2734 |  21.945867 |\n| Manager | Request |  9 | 3681 |  24.449878 |\n| Manager | Request |  8 | 3334 |  23.995201 |\n| Manager | Request |  8 |  950 |  84.210526 |\n| Manager | Request |  4 | 2786 |  14.357502 |\n| Manager | Request |  6 | 4457 |  13.461970 |\n| Manager | Request | 10 | 3518 |  28.425242 |\n| Manager | Request |  6 |  367 | 163.487738 |\n| ⋮ | ⋮ | ⋮ | ⋮ | ⋮ |\n| Employee | Promise | 3 | 1053 | 28.490028 |\n| Employee | Promise | 5 | 1685 | 29.673591 |\n| Employee | Promise | 5 |  520 | 96.153846 |\n| Employee | Promise | 1 | 1445 |  6.920415 |\n| Employee | Promise | 4 | 4394 |  9.103323 |\n| Employee | Promise | 7 |  712 | 98.314607 |\n| Employee | Promise | 1 | 2178 |  4.591368 |\n| Employee | Promise | 8 | 1313 | 60.929170 |\n| Employee | Promise | 6 | 1932 | 31.055901 |\n| Employee | Promise | 8 | 1668 | 47.961631 |\n| Employee | Promise | 1 |  301 | 33.222591 |\n| Employee | Promise | 6 | 2061 | 29.112082 |\n| Employee | Promise | 1 | 3993 |  2.504383 |\n| Employee | Promise | 3 | 2333 | 12.858980 |\n| Employee | Promise | 8 | 3214 | 24.891101 |\n| Employee | Promise | 5 | 3413 | 14.649868 |\n| Employee | Promise | 4 | 4380 |  9.132420 |\n| Employee | Promise | 1 | 3081 |  3.245699 |\n| Employee | Promise | 2 |  456 | 43.859649 |\n| Employee | Promise | 2 | 3712 |  5.387931 |\n| Employee | Promise | 5 | 2528 | 19.778481 |\n| Employee | Promise | 5 | 2662 | 18.782870 |\n| Employee | Promise | 1 | 3149 |  3.175611 |\n| Employee | Promise | 1 | 4039 |  2.475860 |\n| Employee | Promise | 7 | 1698 | 41.224971 |\n| Employee | Promise | 2 | 3363 |  5.947071 |\n| Employee | Promise | 3 |  751 | 39.946738 |\n| Employee | Promise | 3 | 4988 |  6.014435 |\n| Employee | Promise | 7 | 4854 | 14.421096 |\n| Employee | Promise | 3 | 3172 |  9.457755 |\n\n",
            "text/latex": "A tibble: 300 × 5\n\\begin{tabular}{lllll}\n Hierarchy & Speech\\_act & Frequency\\_item & Total\\_nb\\_words & normalized\\_freq\\\\\n <chr> & <chr> & <dbl> & <dbl> & <dbl>\\\\\n\\hline\n\t Manager & Request &  4 &  318 & 125.786164\\\\\n\t Manager & Request &  7 & 3981 &  17.583522\\\\\n\t Manager & Request &  7 & 1181 &  59.271804\\\\\n\t Manager & Request &  6 & 3166 &  18.951358\\\\\n\t Manager & Request &  8 & 4838 &  16.535759\\\\\n\t Manager & Request &  6 & 4581 &  13.097577\\\\\n\t Manager & Request &  6 &  945 &  63.492063\\\\\n\t Manager & Request &  9 &  396 & 227.272727\\\\\n\t Manager & Request &  5 & 4553 &  10.981770\\\\\n\t Manager & Request &  7 & 1724 &  40.603248\\\\\n\t Manager & Request &  9 & 3148 &  28.589581\\\\\n\t Manager & Request &  8 & 2479 &  32.271077\\\\\n\t Manager & Request &  7 & 2657 &  26.345502\\\\\n\t Manager & Request &  8 & 1427 &  56.061668\\\\\n\t Manager & Request &  5 & 2172 &  23.020258\\\\\n\t Manager & Request &  6 & 4454 &  13.471037\\\\\n\t Manager & Request &  6 & 1304 &  46.012270\\\\\n\t Manager & Request &  9 &  669 & 134.529148\\\\\n\t Manager & Request &  4 & 3733 &  10.715242\\\\\n\t Manager & Request &  7 & 3375 &  20.740741\\\\\n\t Manager & Request &  8 & 2980 &  26.845638\\\\\n\t Manager & Request &  4 & 4812 &   8.312552\\\\\n\t Manager & Request &  6 & 2734 &  21.945867\\\\\n\t Manager & Request &  9 & 3681 &  24.449878\\\\\n\t Manager & Request &  8 & 3334 &  23.995201\\\\\n\t Manager & Request &  8 &  950 &  84.210526\\\\\n\t Manager & Request &  4 & 2786 &  14.357502\\\\\n\t Manager & Request &  6 & 4457 &  13.461970\\\\\n\t Manager & Request & 10 & 3518 &  28.425242\\\\\n\t Manager & Request &  6 &  367 & 163.487738\\\\\n\t ⋮ & ⋮ & ⋮ & ⋮ & ⋮\\\\\n\t Employee & Promise & 3 & 1053 & 28.490028\\\\\n\t Employee & Promise & 5 & 1685 & 29.673591\\\\\n\t Employee & Promise & 5 &  520 & 96.153846\\\\\n\t Employee & Promise & 1 & 1445 &  6.920415\\\\\n\t Employee & Promise & 4 & 4394 &  9.103323\\\\\n\t Employee & Promise & 7 &  712 & 98.314607\\\\\n\t Employee & Promise & 1 & 2178 &  4.591368\\\\\n\t Employee & Promise & 8 & 1313 & 60.929170\\\\\n\t Employee & Promise & 6 & 1932 & 31.055901\\\\\n\t Employee & Promise & 8 & 1668 & 47.961631\\\\\n\t Employee & Promise & 1 &  301 & 33.222591\\\\\n\t Employee & Promise & 6 & 2061 & 29.112082\\\\\n\t Employee & Promise & 1 & 3993 &  2.504383\\\\\n\t Employee & Promise & 3 & 2333 & 12.858980\\\\\n\t Employee & Promise & 8 & 3214 & 24.891101\\\\\n\t Employee & Promise & 5 & 3413 & 14.649868\\\\\n\t Employee & Promise & 4 & 4380 &  9.132420\\\\\n\t Employee & Promise & 1 & 3081 &  3.245699\\\\\n\t Employee & Promise & 2 &  456 & 43.859649\\\\\n\t Employee & Promise & 2 & 3712 &  5.387931\\\\\n\t Employee & Promise & 5 & 2528 & 19.778481\\\\\n\t Employee & Promise & 5 & 2662 & 18.782870\\\\\n\t Employee & Promise & 1 & 3149 &  3.175611\\\\\n\t Employee & Promise & 1 & 4039 &  2.475860\\\\\n\t Employee & Promise & 7 & 1698 & 41.224971\\\\\n\t Employee & Promise & 2 & 3363 &  5.947071\\\\\n\t Employee & Promise & 3 &  751 & 39.946738\\\\\n\t Employee & Promise & 3 & 4988 &  6.014435\\\\\n\t Employee & Promise & 7 & 4854 & 14.421096\\\\\n\t Employee & Promise & 3 & 3172 &  9.457755\\\\\n\\end{tabular}\n"
          },
          "metadata": {}
        }
      ]
    },
    {
      "cell_type": "markdown",
      "source": [
        "### 4. **Significance testing in Hierarchy level**\n",
        "To answer question (i) by testing for whether the difference in the frequency of expression for 10000 words per hierarch level of writer is significant, we are going to use **t-test**. [Link](https://www.statology.org/welch-t-test-in-r/)"
      ],
      "metadata": {
        "id": "RnNMAl9FAxzE"
      }
    },
    {
      "cell_type": "code",
      "source": [
        "# Perform T-test for significant difference by hierarchy\n",
        "t_test_result <- t.test(normalized_freq ~ Hierarchy, data = data)\n",
        "\n",
        "# T-test result\n",
        "t_test_result"
      ],
      "metadata": {
        "colab": {
          "base_uri": "https://localhost:8080/",
          "height": 208
        },
        "id": "AJ8jFW4e3Y5d",
        "outputId": "0c9d45d9-91a0-4dbd-945e-c772d6dbf9e3"
      },
      "execution_count": 7,
      "outputs": [
        {
          "output_type": "display_data",
          "data": {
            "text/plain": [
              "\n",
              "\tWelch Two Sample t-test\n",
              "\n",
              "data:  normalized_freq by Hierarchy\n",
              "t = 1.9448, df = 297.26, p-value = 0.05275\n",
              "alternative hypothesis: true difference in means between group Employee and group Manager is not equal to 0\n",
              "95 percent confidence interval:\n",
              " -0.104915 17.678444\n",
              "sample estimates:\n",
              "mean in group Employee  mean in group Manager \n",
              "              34.17062               25.38385 \n"
            ]
          },
          "metadata": {}
        }
      ]
    },
    {
      "cell_type": "markdown",
      "source": [
        "### 5 **Interpretation**"
      ],
      "metadata": {
        "id": "1moeo0TOD0rC"
      }
    },
    {
      "cell_type": "markdown",
      "source": [
        "T-test Results:\n",
        "\n",
        "- T-statistic: -1.9448\n",
        "\n",
        "- P-value: 0.0527\n",
        "\n",
        "The p-value is slightly above the common significance threshold of 0.05, **suggesting that there is no statistically significant difference in the normalized frequency of the expression \"could you\" between managers and employees**."
      ],
      "metadata": {
        "id": "C49U5HKL31DS"
      }
    },
    {
      "cell_type": "markdown",
      "source": [
        "### 6. **Appropriate plot**"
      ],
      "metadata": {
        "id": "Svk0ckXVCYp3"
      }
    },
    {
      "cell_type": "code",
      "source": [
        "# Plotting Normalized_frequency distribution per Hierarchy level\n",
        "ggplot2::ggplot(data, aes(x = Hierarchy, y = normalized_freq)) +\n",
        "  geom_boxplot() +\n",
        "  ggtitle('Normalized Frequency of \"Could You\" by Hierarchy') +\n",
        "  ylab('Normalized Frequency per 10,000 Words')"
      ],
      "metadata": {
        "colab": {
          "base_uri": "https://localhost:8080/",
          "height": 437
        },
        "id": "pCPYE35N4VXh",
        "outputId": "7a922399-5cfb-4c25-dbd1-3df79a6c01b7"
      },
      "execution_count": 9,
      "outputs": [
        {
          "output_type": "display_data",
          "data": {
            "text/plain": [
              "plot without title"
            ],
            "image/png": "[encoded data removed]"
          },
          "metadata": {
            "image/png": {
              "width": 420,
              "height": 420
            }
          }
        }
      ]
    },
    {
      "cell_type": "markdown",
      "source": [
        "### 7. **Significance testing in Speech_act**\n",
        "To answer question (i) by testing for whether the difference in the frequency of expression for 10000 words per speech_act of the email is significant, we are going to use **ANOVA test**. [Link](https://www.statology.org/one-way-anova-r/)"
      ],
      "metadata": {
        "id": "LPjdA_M3C9Ng"
      }
    },
    {
      "cell_type": "code",
      "source": [
        "# ANOVA for significant difference by speech act\n",
        "anova_result <- aov(normalized_freq ~ Speech_act, data = data)\n",
        "\n",
        "# ANOVA result\n",
        "summary(anova_result)"
      ],
      "metadata": {
        "colab": {
          "base_uri": "https://localhost:8080/",
          "height": 104
        },
        "id": "wQgfCh_B4qVQ",
        "outputId": "c32ea6ac-9280-4ef9-e51f-83f8bf07277a"
      },
      "execution_count": 11,
      "outputs": [
        {
          "output_type": "display_data",
          "data": {
            "text/plain": [
              "             Df Sum Sq Mean Sq F value   Pr(>F)    \n",
              "Speech_act    2  85508   42754   33.72 6.34e-14 ***\n",
              "Residuals   297 376535    1268                     \n",
              "---\n",
              "Signif. codes:  0 ‘***’ 0.001 ‘**’ 0.01 ‘*’ 0.05 ‘.’ 0.1 ‘ ’ 1"
            ]
          },
          "metadata": {}
        }
      ]
    },
    {
      "cell_type": "markdown",
      "source": [
        "### 8. **Interpretation**"
      ],
      "metadata": {
        "id": "4N2hOBj_EDeN"
      }
    },
    {
      "cell_type": "markdown",
      "source": [
        "\n",
        "\n",
        "- The **p-value (6.34e-14)** is extremely small and well below the common significance level of 0.05. This suggests that **there is a statistically significant difference in the normalized frequency of the expression \"could you\" depending on the speech act of the email**.\n",
        "- The **F-value of 33.72** is quite large, which *further supports the conclusion that the differences in normalized frequency between the speech acts are unlikely to be due to random chance*.\n"
      ],
      "metadata": {
        "id": "4rqxNVeD40Wu"
      }
    },
    {
      "cell_type": "markdown",
      "source": [
        "### 9. **Appropriate plot**"
      ],
      "metadata": {
        "id": "XVTVPri8EOWs"
      }
    },
    {
      "cell_type": "code",
      "source": [
        "# Plotting the Normalized_frequency distribution per Speech_act type of email\n",
        "ggplot(data, aes(x = Speech_act, y = normalized_freq)) +\n",
        "  geom_boxplot() +\n",
        "  ggtitle('Normalized Frequency of \"Could You\" by Speech Act') +\n",
        "  ylab('Normalized Frequency per 10,000 Words')"
      ],
      "metadata": {
        "colab": {
          "base_uri": "https://localhost:8080/",
          "height": 437
        },
        "id": "3lPXAc0a5-vy",
        "outputId": "9c3a5a2f-4779-4b1c-fb65-a53c60b3e65f"
      },
      "execution_count": 12,
      "outputs": [
        {
          "output_type": "display_data",
          "data": {
            "text/plain": [
              "plot without title"
            ],
            "image/png": "[encoded data removed]"
          },
          "metadata": {
            "image/png": {
              "width": 420,
              "height": 420
            }
          }
        }
      ]
    },
    {
      "cell_type": "code",
      "source": [],
      "metadata": {
        "id": "Ap5g_2cr6jAs"
      },
      "execution_count": null,
      "outputs": []
    }
  ]
}